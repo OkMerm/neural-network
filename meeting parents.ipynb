{
 "cells": [
  {
   "cell_type": "code",
   "execution_count": 8,
   "metadata": {},
   "outputs": [],
   "source": [
    "import numpy as np"
   ]
  },
  {
   "cell_type": "markdown",
   "metadata": {},
   "source": [
    "Функция активации и её производная"
   ]
  },
  {
   "cell_type": "code",
   "execution_count": 6,
   "metadata": {},
   "outputs": [],
   "source": [
    "def f(x):\n",
    "    return 1/(1 + np.exp(-x))\n",
    "\n",
    "def f(x):\n",
    "    return np.exp(-x)/(np.exp(-x) + 1)**2"
   ]
  },
  {
   "cell_type": "code",
   "execution_count": 15,
   "metadata": {},
   "outputs": [],
   "source": [
    "W1 = np.array([[-0.893, -0.165, -0.503], [-1.789, -1.876, -1.21]])\n",
    "W2 = np.array([-0.047, -0.145])\n",
    "O1 = np.array([[-0.047], [-0.145]])\n",
    "O2 =  np.array([-0.893])\n",
    "\n",
    "def go_forward(X1):\n",
    "    U1 = np.dot(W1, X1) + O1\n",
    "    Y1 = f(U1)\n",
    "\n",
    "    U2 = np.dot(W2, Y1) + O2\n",
    "    Y2 = f(U2)\n"
   ]
  }
 ],
 "metadata": {
  "kernelspec": {
   "display_name": "Python 3",
   "language": "python",
   "name": "python3"
  },
  "language_info": {
   "codemirror_mode": {
    "name": "ipython",
    "version": 3
   },
   "file_extension": ".py",
   "mimetype": "text/x-python",
   "name": "python",
   "nbconvert_exporter": "python",
   "pygments_lexer": "ipython3",
   "version": "3.12.1"
  }
 },
 "nbformat": 4,
 "nbformat_minor": 2
}
